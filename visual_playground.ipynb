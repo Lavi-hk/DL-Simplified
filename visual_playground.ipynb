{
 "cells": [
  {
   "cell_type": "markdown",
   "id": "f74726a7",
   "metadata": {},
   "source": [
    "# 🎨 Neural Network Visual Playground\n",
    "\n",
    "Welcome! 👋\n",
    "\n",
    "This notebook is an interactive playground where you can: \n",
    "- Discover how the number of neurons, choice of activation function, learning rate, and learning rate influence the decision boundary and learning process \n",
    "- Visualize data, predictions, and more importantly the action of weights and the decision boundary. "
   ]
  },
  {
   "cell_type": "markdown",
   "id": "70729ed7",
   "metadata": {},
   "source": [
    "# 1) Import libraries"
   ]
  },
  {
   "cell_type": "code",
   "execution_count": 3,
   "id": "2b768d94",
   "metadata": {},
   "outputs": [],
   "source": [
    "import numpy as np\n",
    "import matplotlib.pyplot as plt\n",
    "from sklearn.datasets import make_moons\n",
    "from tensorflow.keras import models, layers, optimizers\n",
    "import ipywidgets as widgets\n",
    "from IPython.display import display, clear_output\n"
   ]
  },
  {
   "cell_type": "markdown",
   "id": "383ad7ac",
   "metadata": {},
   "source": [
    "# 2) Dataset"
   ]
  },
  {
   "cell_type": "code",
   "execution_count": 4,
   "id": "c7b46919",
   "metadata": {},
   "outputs": [],
   "source": [
    "# Create synthetic dataset\n",
    "X, y = make_moons(n_samples=500, noise=0.2, random_state=42)\n"
   ]
  },
  {
   "cell_type": "markdown",
   "id": "d6b71eb6",
   "metadata": {},
   "source": [
    "# 3) Model building function"
   ]
  },
  {
   "cell_type": "code",
   "execution_count": 5,
   "id": "8d187ddf",
   "metadata": {},
   "outputs": [],
   "source": [
    "def create_model(neurons=4, activation='relu', lr=0.01):\n",
    "    model = models.Sequential([\n",
    "        layers.Dense(neurons, activation=activation, input_shape=(2,)),\n",
    "        layers.Dense(1, activation='sigmoid')\n",
    "    ])\n",
    "    optimizer = optimizers.Adam(learning_rate=lr)\n",
    "    model.compile(optimizer=optimizer, loss='binary_crossentropy', metrics=['accuracy'])\n",
    "    return model\n"
   ]
  },
  {
   "cell_type": "markdown",
   "id": "7e0818fc",
   "metadata": {},
   "source": [
    "# 4) Plotting decision boundary"
   ]
  },
  {
   "cell_type": "code",
   "execution_count": 6,
   "id": "4b73512a",
   "metadata": {},
   "outputs": [],
   "source": [
    "def plot_decision_boundary(model, X, y, ax):\n",
    "    h = 0.02\n",
    "    x_min, x_max = X[:, 0].min() - .5, X[:, 0].max() + .5\n",
    "    y_min, y_max = X[:, 1].min() - .5, X[:, 1].max() + .5\n",
    "    xx, yy = np.meshgrid(np.arange(x_min, x_max, h),\n",
    "                         np.arange(y_min, y_max, h))\n",
    "    Z = model.predict(np.c_[xx.ravel(), yy.ravel()], verbose=0)\n",
    "    Z = (Z > 0.5).astype(int).reshape(xx.shape)\n",
    "    ax.contourf(xx, yy, Z, alpha=0.3, cmap='coolwarm')\n",
    "    ax.scatter(X[:, 0], X[:, 1], c=y, edgecolors='k')\n",
    "    ax.set_xlabel('Feature 1')\n",
    "    ax.set_ylabel('Feature 2')\n"
   ]
  },
  {
   "cell_type": "markdown",
   "id": "b323157c",
   "metadata": {},
   "source": [
    "# 5) Interactive function"
   ]
  },
  {
   "cell_type": "code",
   "execution_count": 7,
   "id": "753f12a9",
   "metadata": {},
   "outputs": [],
   "source": [
    "def interactive_nn(neurons, activation, lr, epochs):\n",
    "    clear_output(wait=True)\n",
    "    model = create_model(neurons, activation, lr)\n",
    "    history = model.fit(X, y, epochs=epochs, verbose=0)\n",
    "    fig, axs = plt.subplots(1, 2, figsize=(12,4))\n",
    "    \n",
    "    axs[0].set_title(\"Decision Boundary\")\n",
    "    plot_decision_boundary(model, X, y, axs[0])\n",
    "    \n",
    "    axs[1].plot(history.history['loss'], color='purple')\n",
    "    axs[1].set_title(\"Loss Curve\")\n",
    "    axs[1].set_xlabel('Epoch')\n",
    "    axs[1].set_ylabel('Loss')\n",
    "    \n",
    "    plt.show()\n"
   ]
  },
  {
   "cell_type": "markdown",
   "id": "92bb039b",
   "metadata": {},
   "source": [
    "# Widgets & Display"
   ]
  },
  {
   "cell_type": "code",
   "execution_count": 8,
   "id": "fc704a4d",
   "metadata": {},
   "outputs": [
    {
     "data": {
      "application/vnd.jupyter.widget-view+json": {
       "model_id": "78b0159138564de2ba925cf68c375d67",
       "version_major": 2,
       "version_minor": 0
      },
      "text/plain": [
       "VBox(children=(IntSlider(value=4, description='Neurons', max=20, min=2), Dropdown(description='Activation', op…"
      ]
     },
     "metadata": {},
     "output_type": "display_data"
    },
    {
     "data": {
      "application/vnd.jupyter.widget-view+json": {
       "model_id": "c15b86ccf106430091d2cdd35b440b45",
       "version_major": 2,
       "version_minor": 0
      },
      "text/plain": [
       "Output()"
      ]
     },
     "metadata": {},
     "output_type": "display_data"
    }
   ],
   "source": [
    "neurons_slider = widgets.IntSlider(4, min=2, max=20, description='Neurons')\n",
    "activation_dropdown = widgets.Dropdown(options=['relu', 'tanh', 'sigmoid'], value='relu', description='Activation')\n",
    "lr_slider = widgets.FloatLogSlider(0.01, base=10, min=-4, max=-1, description='Learning Rate')\n",
    "epochs_slider = widgets.IntSlider(100, min=50, max=500, step=50, description='Epochs')\n",
    "\n",
    "ui = widgets.VBox([neurons_slider, activation_dropdown, lr_slider, epochs_slider])\n",
    "out = widgets.interactive_output(interactive_nn, {\n",
    "    'neurons': neurons_slider,\n",
    "    'activation': activation_dropdown,\n",
    "    'lr': lr_slider,\n",
    "    'epochs': epochs_slider\n",
    "})\n",
    "\n",
    "display(ui, out)\n"
   ]
  },
  {
   "cell_type": "markdown",
   "id": "7eb9bce9",
   "metadata": {},
   "source": [
    "## ✅ Summary\n",
    "\n",
    "- Try different activation function to get different shapes of decision boundaries. \n",
    "- Increase number of neurons → more flexible model. \n",
    "- Decrease or increase learning rate → change speed & stability of convergence.\n"
   ]
  },
  {
   "cell_type": "code",
   "execution_count": null,
   "id": "ddad379c",
   "metadata": {},
   "outputs": [],
   "source": []
  }
 ],
 "metadata": {
  "kernelspec": {
   "display_name": "Python 3 (ipykernel)",
   "language": "python",
   "name": "python3"
  },
  "language_info": {
   "codemirror_mode": {
    "name": "ipython",
    "version": 3
   },
   "file_extension": ".py",
   "mimetype": "text/x-python",
   "name": "python",
   "nbconvert_exporter": "python",
   "pygments_lexer": "ipython3",
   "version": "3.9.13"
  }
 },
 "nbformat": 4,
 "nbformat_minor": 5
}
